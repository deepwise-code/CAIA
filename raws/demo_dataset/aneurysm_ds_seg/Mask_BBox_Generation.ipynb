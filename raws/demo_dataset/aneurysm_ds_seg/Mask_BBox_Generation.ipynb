{
 "cells": [
  {
   "cell_type": "markdown",
   "metadata": {},
   "source": [
    "# 说明\n",
    "* 功能: 预处理, 提取数据集中动脉瘤病灶的BBOX坐标\n",
    "  * 序列/标注均以PID+Study_UID+Series_UID/三级路径形式命名"
   ]
  },
  {
   "cell_type": "code",
   "execution_count": 1,
   "metadata": {
    "ExecuteTime": {
     "end_time": "2021-02-04T08:08:38.534442Z",
     "start_time": "2021-02-04T08:08:37.933976Z"
    }
   },
   "outputs": [],
   "source": [
    "import os\n",
    "import numpy as np\n",
    "import nibabel as nib\n",
    "from skimage import measure\n",
    "from joblib import Parallel, delayed\n",
    "from multiprocessing import cpu_count"
   ]
  },
  {
   "cell_type": "code",
   "execution_count": 2,
   "metadata": {
    "ExecuteTime": {
     "end_time": "2021-02-04T08:08:38.537710Z",
     "start_time": "2021-02-04T08:08:38.535909Z"
    }
   },
   "outputs": [],
   "source": [
    "# os.chdir('../0331_DOCJ')\n",
    "mask_root = './mask'"
   ]
  },
  {
   "cell_type": "code",
   "execution_count": 3,
   "metadata": {
    "ExecuteTime": {
     "end_time": "2021-02-04T08:08:38.550911Z",
     "start_time": "2021-02-04T08:08:38.539092Z"
    }
   },
   "outputs": [
    {
     "name": "stdout",
     "output_type": "stream",
     "text": [
      "待处理MASk个数: 1\n"
     ]
    }
   ],
   "source": [
    "file_names = [_ for _ in os.listdir(mask_root) if _.endswith('mask.nii.gz')]\n",
    "assert len(file_names) > 0, mask_root\n",
    "print('待处理MASk个数:', len(file_names))"
   ]
  },
  {
   "cell_type": "code",
   "execution_count": 4,
   "metadata": {
    "ExecuteTime": {
     "end_time": "2021-02-04T08:08:38.562862Z",
     "start_time": "2021-02-04T08:08:38.552502Z"
    }
   },
   "outputs": [],
   "source": [
    "def process_one(mask_path):\n",
    "    # pid = os.path.basename(mask_path).split('_')[0]\n",
    "    pid = os.path.basename(mask_path).rsplit('_', maxsplit=1)[0] # _mask.nii.gz\n",
    "    nii_mask = nib.load(mask_path)\n",
    "    mask_data = np.asarray(nii_mask.dataobj)\n",
    "\n",
    "    mask_inst = measure.label(mask_data, connectivity=2)\n",
    "    mask_props = measure.regionprops(mask_inst)\n",
    "\n",
    "    infos = []\n",
    "    for prop in mask_props:\n",
    "        x1,y1,z1,x2,y2,z2 = prop.bbox\n",
    "        # 开始点是真实的起始点,结束点并不实际被包含, 例如Z轴分布1层,则求得的Z=[1,2) = 2-1=1层\n",
    "        infos += [(pid, z1, x1, y1, z2-z1, x2-x1, y2-y1)]  \n",
    "    # assert len(infos) > 0, mask_path # 允许MASK内容为空/无病灶\n",
    "    return infos\n",
    "\n",
    "# test\n",
    "# mask_path = os.path.join(mask_root, file_names[0])\n",
    "# process_one(mask_path)"
   ]
  },
  {
   "cell_type": "code",
   "execution_count": 5,
   "metadata": {
    "ExecuteTime": {
     "end_time": "2021-02-04T08:08:59.015303Z",
     "start_time": "2021-02-04T08:08:38.564958Z"
    }
   },
   "outputs": [
    {
     "name": "stderr",
     "output_type": "stream",
     "text": [
      "[Parallel(n_jobs=6)]: Using backend MultiprocessingBackend with 6 concurrent workers.\n",
      "[Parallel(n_jobs=6)]: Done   1 tasks      | elapsed:    0.8s\n",
      "[Parallel(n_jobs=6)]: Done   1 out of   1 | elapsed:    0.8s finished\n"
     ]
    }
   ],
   "source": [
    "mask_box_infos = Parallel(n_jobs=cpu_count()//4, verbose=10, backend='multiprocessing')(\\\n",
    "    delayed(process_one)(os.path.join(mask_root, _)) for _ in file_names[::])"
   ]
  },
  {
   "cell_type": "code",
   "execution_count": 6,
   "metadata": {
    "ExecuteTime": {
     "end_time": "2021-02-04T08:08:59.025453Z",
     "start_time": "2021-02-04T08:08:59.019011Z"
    }
   },
   "outputs": [
    {
     "name": "stdout",
     "output_type": "stream",
     "text": [
      "PID0014297_1.2.276.0.7230010.3.1.2.396775365.6052.1379291461.6233_2.25.266836558535444967533867872517828591362 158 148 121 5 8 7\n"
     ]
    },
    {
     "ename": "",
     "evalue": "",
     "output_type": "error",
     "traceback": [
      "\u001b[1;31m在当前单元格或上一个单元格中执行代码时 Kernel 崩溃。请查看单元格中的代码，以确定故障的可能原因。有关详细信息，请单击 <a href='https://aka.ms/vscodeJupyterKernelCrash'>此处</a>。有关更多详细信息，请查看 Jupyter <a href='command:jupyter.viewOutput'>log</a>。"
     ]
    }
   ],
   "source": [
    "mask_box_info_save_path = './mask_bbox.txt'\n",
    "with open(mask_box_info_save_path, 'w') as fout:\n",
    "    mask_box_info_format = ['%s %d %d %d %d %d %d' % _ for grp in mask_box_infos for _ in grp]\n",
    "    print('\\n'.join(mask_box_info_format))\n",
    "    fout.write('\\n'.join(mask_box_info_format))"
   ]
  },
  {
   "cell_type": "code",
   "execution_count": null,
   "metadata": {},
   "outputs": [],
   "source": []
  }
 ],
 "metadata": {
  "kernelspec": {
   "display_name": "py39",
   "language": "python",
   "name": "python3"
  },
  "language_info": {
   "codemirror_mode": {
    "name": "ipython",
    "version": 3
   },
   "file_extension": ".py",
   "mimetype": "text/x-python",
   "name": "python",
   "nbconvert_exporter": "python",
   "pygments_lexer": "ipython3",
   "version": "3.9.7"
  },
  "vscode": {
   "interpreter": {
    "hash": "95e8a0b7daaaf4f896aaac41afd7e7872ead05aed45e85579bb0311e7fb86a1a"
   }
  }
 },
 "nbformat": 4,
 "nbformat_minor": 2
}
